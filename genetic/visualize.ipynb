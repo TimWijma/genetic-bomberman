{
 "cells": [
  {
   "cell_type": "code",
   "execution_count": null,
   "id": "cef925d1",
   "metadata": {},
   "outputs": [],
   "source": [
    "import pandas as pd\n",
    "import seaborn as sns\n",
    "import matplotlib.pyplot as plt"
   ]
  },
  {
   "cell_type": "code",
   "execution_count": null,
   "id": "93104522",
   "metadata": {},
   "outputs": [],
   "source": [
    "RUN_ID = 41270\n",
    "\n",
    "df_conditions = pd.read_csv(f'./results/{RUN_ID}/conditions.csv')\n",
    "df_conditions_melted = df_conditions.melt(id_vars='generation', var_name='condition', value_name='value')\n",
    "\n",
    "df_actions = pd.read_csv(f'./results/{RUN_ID}/actions.csv')\n",
    "df_actions_melted = df_actions.melt(id_vars='generation', var_name='action', value_name='value')\n",
    "\n",
    "df_performance = pd.read_csv(f'./results/{RUN_ID}/performance.csv')\n",
    "df_performance_melted = df_performance.melt(id_vars='generation', var_name='metric', value_name='value')"
   ]
  },
  {
   "cell_type": "code",
   "execution_count": null,
   "id": "daa150d7",
   "metadata": {},
   "outputs": [],
   "source": [
    "plt.figure(figsize=(15, 6))\n",
    "sns.lineplot(data=df_conditions_melted, x='generation', y='value', hue='condition')\n",
    "plt.title(\"Condition Types Over Generations\")\n",
    "plt.legend(bbox_to_anchor=(1.05, 1), loc='upper left')\n",
    "plt.tight_layout()\n",
    "plt.show()\n",
    "\n",
    "final_generation = df_conditions['generation'].max()\n",
    "final_generation_conditions = df_conditions[df_conditions['generation'] == final_generation].iloc[0].drop('generation')\n",
    "print(\"Final Generation Conditions:\")\n",
    "print(final_generation_conditions.sort_values(ascending=False).to_string())"
   ]
  },
  {
   "cell_type": "code",
   "execution_count": null,
   "id": "35e77e38",
   "metadata": {},
   "outputs": [],
   "source": [
    "plt.figure(figsize=(15, 6))\n",
    "sns.lineplot(data=df_actions_melted, x='generation', y='value', hue='action')\n",
    "plt.title(\"Action Types Over Generations\")\n",
    "plt.legend(bbox_to_anchor=(1.05, 1), loc='upper left')\n",
    "plt.tight_layout()\n",
    "plt.show()\n",
    "\n",
    "final_generation = df_actions['generation'].max()\n",
    "final_generation_conditions = df_actions[df_actions['generation'] == final_generation].iloc[0].drop('generation')\n",
    "print(\"Final Generation Conditions:\")\n",
    "print(final_generation_conditions.sort_values(ascending=False).to_string())"
   ]
  },
  {
   "cell_type": "code",
   "execution_count": null,
   "id": "b55c3e5b",
   "metadata": {},
   "outputs": [],
   "source": [
    "plt.figure(figsize=(15, 6))\n",
    "sns.lineplot(data=df_performance_melted, x='generation', y='value', hue='metric')\n",
    "plt.title(\"Performance Metrics Over Generations\")\n",
    "plt.legend(bbox_to_anchor=(1.05, 1), loc='upper left')\n",
    "plt.tight_layout()\n",
    "plt.show()\n",
    "final_generation = df_performance['generation'].max()\n",
    "final_generation_performance = df_performance[df_performance['generation'] == final_generation].iloc[0].drop('generation')\n",
    "print(\"Final Generation Performance:\")\n",
    "print(final_generation_performance.sort_values(ascending=False).to_string())"
   ]
  }
 ],
 "metadata": {
  "kernelspec": {
   "display_name": "venv",
   "language": "python",
   "name": "python3"
  },
  "language_info": {
   "codemirror_mode": {
    "name": "ipython",
    "version": 3
   },
   "file_extension": ".py",
   "mimetype": "text/x-python",
   "name": "python",
   "nbconvert_exporter": "python",
   "pygments_lexer": "ipython3",
   "version": "3.10.12"
  }
 },
 "nbformat": 4,
 "nbformat_minor": 5
}
