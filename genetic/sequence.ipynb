{
 "cells": [
  {
   "cell_type": "code",
   "execution_count": 10,
   "metadata": {},
   "outputs": [],
   "source": [
    "import random\n",
    "from deap import base, creator, tools, algorithms\n",
    "import matplotlib.pyplot as plt\n",
    "from genetic.common_types import Rule, ConditionType, OperatorType, ActionType\n",
    "\n",
    "if \"FitnessMax\" in creator.__dict__:\n",
    "    del creator.FitnessMax\n",
    "if \"Individual\" in creator.__dict__:\n",
    "    del creator.Individual\n"
   ]
  },
  {
   "cell_type": "code",
   "execution_count": 11,
   "metadata": {},
   "outputs": [],
   "source": [
    "POPULATION_SIZE = 100\n"
   ]
  },
  {
   "cell_type": "code",
   "execution_count": 12,
   "metadata": {},
   "outputs": [],
   "source": [
    "creator.create(\"FitnessMax\", base.Fitness, weights=(1.0,))\n",
    "creator.create(\"Individual\", list, fitness=creator.FitnessMax)"
   ]
  },
  {
   "cell_type": "code",
   "execution_count": 13,
   "metadata": {},
   "outputs": [],
   "source": [
    "def random_condition():\n",
    "    return random.choice(list(ConditionType))\n",
    "\n",
    "def random_operator():\n",
    "    return random.choice(list(OperatorType))\n",
    "\n",
    "def random_action():\n",
    "    return random.choice(list(ActionType))\n",
    "\n",
    "def create_random_rule():\n",
    "    num_conditions = random.randint(1, 3)\n",
    "    conditions = [random_condition() for _ in range(num_conditions)]\n",
    "    \n",
    "    num_operators = num_conditions - 1\n",
    "    operators = [random_operator() for _ in range(num_operators)]\n",
    "    \n",
    "    action = random_action()\n",
    "    \n",
    "    return Rule(conditions, operators, action)\n",
    "\n",
    "def create_individual(num_rules):\n",
    "    return [create_random_rule() for _ in range(num_rules)]"
   ]
  },
  {
   "cell_type": "code",
   "execution_count": 14,
   "metadata": {},
   "outputs": [],
   "source": [
    "toolbox = base.Toolbox()\n",
    "toolbox.register(\"rule\", create_random_rule)\n",
    "\n",
    "toolbox.register(\"individual\", tools.initRepeat, creator.Individual, \n",
    "                toolbox.rule, n=10)\n",
    "\n",
    "toolbox.register(\"population\", tools.initRepeat, list, toolbox.individual)"
   ]
  },
  {
   "cell_type": "code",
   "execution_count": null,
   "metadata": {},
   "outputs": [],
   "source": [
    "def mutate_rule(rule, indpb=0.1):\n",
    "    if random.random() < indpb:\n",
    "        if len(rule.conditions) < 3 and random.random() < 0.5:\n",
    "            rule.conditions.append(random_condition())\n",
    "            if len(rule.conditions) > 1:\n",
    "                rule.operators.append(random_operator())\n",
    "        elif len(rule.conditions) > 1 and random.random() < 0.5:\n",
    "            idx = random.randint(0, len(rule.conditions) - 1)\n",
    "            rule.conditions.pop(idx)\n",
    "            if idx < len(rule.operators):\n",
    "                rule.operators.pop(idx)\n",
    "            else:\n",
    "                rule.operators.pop(-1)\n",
    "        else:\n",
    "            idx = random.randint(0, len(rule.conditions) - 1)\n",
    "            rule.conditions[idx] = random_condition()\n",
    "\n",
    "    for i in range(len(rule.operators)):\n",
    "        if random.random() < indpb:\n",
    "            rule.operators[i] = random_operator()\n",
    "            \n",
    "    if random.random() < indpb:\n",
    "        rule.action = random_action()\n",
    "        \n",
    "    return rule\n",
    "\n",
    "\n",
    "def mutate_individual(individual, indpb=0.1):\n",
    "    for i in range(len(individual)):\n",
    "        if random.random() < indpb:\n",
    "            individual[i] = mutate_rule(individual[i], indpb)\n",
    "\n",
    "    return individual,\n",
    "\n",
    "def crossover_individuals(ind1, ind2):\n",
    "    if len(ind1) != len(ind2):\n",
    "        raise ValueError(\"Individuals must have the same number of rules for crossover.\")\n",
    "    \n",
    "    cxpoint1 = random.randint(0, len(ind1))\n",
    "    cxpoint2 = random.randint(0, len(ind1))\n",
    "    if cxpoint1 > cxpoint2:\n",
    "        cxpoint1, cxpoint2 = cxpoint2, cxpoint1\n",
    "        \n",
    "    ind1[cxpoint1:cxpoint2], ind2[cxpoint1:cxpoint2] = \\\n",
    "        ind2[cxpoint1:cxpoint2], ind1[cxpoint1:cxpoint2]\n",
    "        \n",
    "    return ind1, ind2"
   ]
  },
  {
   "cell_type": "code",
   "execution_count": null,
   "metadata": {},
   "outputs": [],
   "source": [
    "# def evaluate_population_in_tournament"
   ]
  }
 ],
 "metadata": {
  "kernelspec": {
   "display_name": "venv",
   "language": "python",
   "name": "python3"
  },
  "language_info": {
   "codemirror_mode": {
    "name": "ipython",
    "version": 3
   },
   "file_extension": ".py",
   "mimetype": "text/x-python",
   "name": "python",
   "nbconvert_exporter": "python",
   "pygments_lexer": "ipython3",
   "version": "3.10.12"
  }
 },
 "nbformat": 4,
 "nbformat_minor": 2
}
