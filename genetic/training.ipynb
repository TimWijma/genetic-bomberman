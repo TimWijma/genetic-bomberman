{
 "cells": [
  {
   "cell_type": "code",
   "execution_count": null,
   "id": "1a79ea86",
   "metadata": {},
   "outputs": [],
   "source": [
    "import random\n",
    "from Game import Game\n",
    "from deap import base, creator, tools, algorithms\n",
    "import matplotlib.pyplot as plt\n",
    "\n",
    "\n",
    "if \"FitnessMax\" in creator.__dict__:\n",
    "    del creator.FitnessMax\n",
    "if \"Individual\" in creator.__dict__:\n",
    "    del creator.Individual\n"
   ]
  }
 ],
 "metadata": {
  "language_info": {
   "name": "python"
  }
 },
 "nbformat": 4,
 "nbformat_minor": 5
}
